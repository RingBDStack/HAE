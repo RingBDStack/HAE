{
 "cells": [
  {
   "cell_type": "markdown",
   "metadata": {},
   "source": [
    "# ReadData"
   ]
  },
  {
   "cell_type": "code",
   "execution_count": null,
   "metadata": {},
   "outputs": [],
   "source": [
    "from sklearn.cluster import DBSCAN\n",
    "import numpy as np\n",
    "import scipy.sparse as sp\n",
    "from sklearn import metrics\n",
    "\n",
    "np.set_printoptions(threshold=4200)  "
   ]
  },
  {
   "cell_type": "markdown",
   "metadata": {},
   "source": [
    "# Dbscan in lode Embedding"
   ]
  },
  {
   "cell_type": "code",
   "execution_count": null,
   "metadata": {},
   "outputs": [],
   "source": [
    "def preprocess_features_v1(features):\n",
    "    \"\"\"Row-normalize feature matrix and convert to tuple representation\"\"\"\n",
    "    rowsum = np.array(features.sum(1))\n",
    "    r_inv = np.power(rowsum, -1,).flatten()\n",
    "    r_inv[np.isinf(r_inv)] = 0.\n",
    "    r_mat_inv = sp.diags(r_inv)\n",
    "    features = r_mat_inv.dot(features)\n",
    "    return np.matrix(features)"
   ]
  },
  {
   "cell_type": "code",
   "execution_count": null,
   "metadata": {},
   "outputs": [],
   "source": [
    "features = np.load('featts.npy')"
   ]
  },
  {
   "cell_type": "code",
   "execution_count": null,
   "metadata": {},
   "outputs": [],
   "source": [
    "features = np.squeeze(features)"
   ]
  },
  {
   "cell_type": "code",
   "execution_count": null,
   "metadata": {},
   "outputs": [],
   "source": [
    "features.shape"
   ]
  },
  {
   "cell_type": "code",
   "execution_count": null,
   "metadata": {},
   "outputs": [],
   "source": [
    "features = preprocess_features_v1(features)"
   ]
  },
  {
   "cell_type": "code",
   "execution_count": null,
   "metadata": {},
   "outputs": [],
   "source": [
    "features"
   ]
  },
  {
   "cell_type": "code",
   "execution_count": null,
   "metadata": {},
   "outputs": [],
   "source": [
    "lable_onehot = np.load('one_hot_labels.npy').astype(int)"
   ]
  },
  {
   "cell_type": "code",
   "execution_count": null,
   "metadata": {},
   "outputs": [],
   "source": [
    "label = lable_onehot.argmax(axis=1)[:,np.newaxis]"
   ]
  },
  {
   "cell_type": "code",
   "execution_count": null,
   "metadata": {},
   "outputs": [],
   "source": [
    "label.shape"
   ]
  },
  {
   "cell_type": "code",
   "execution_count": null,
   "metadata": {},
   "outputs": [],
   "source": [
    "label = np.squeeze(label)"
   ]
  },
  {
   "cell_type": "code",
   "execution_count": null,
   "metadata": {},
   "outputs": [],
   "source": [
    "label.shape"
   ]
  },
  {
   "cell_type": "markdown",
   "metadata": {},
   "source": [
    "# Dbscan"
   ]
  },
  {
   "cell_type": "code",
   "execution_count": null,
   "metadata": {},
   "outputs": [],
   "source": [
    "clustering = DBSCAN(eps=0.0049, min_samples=17).fit(features)\n",
    "clustering"
   ]
  },
  {
   "cell_type": "code",
   "execution_count": null,
   "metadata": {},
   "outputs": [],
   "source": [
    "prelabel = clustering.labels_"
   ]
  },
  {
   "cell_type": "code",
   "execution_count": null,
   "metadata": {},
   "outputs": [],
   "source": [
    "prelabel.max()"
   ]
  },
  {
   "cell_type": "code",
   "execution_count": null,
   "metadata": {},
   "outputs": [],
   "source": [
    "ind = []\n",
    "pre = []\n",
    "for i in range(len(prelabel)):\n",
    "    if prelabel[i] != -1:\n",
    "        ind.append(i)\n",
    "        pre.append(prelabel[i])"
   ]
  },
  {
   "cell_type": "code",
   "execution_count": null,
   "metadata": {},
   "outputs": [],
   "source": [
    "labels_true = label[ind]"
   ]
  },
  {
   "cell_type": "code",
   "execution_count": null,
   "metadata": {},
   "outputs": [],
   "source": [
    "len(ind)"
   ]
  },
  {
   "cell_type": "markdown",
   "metadata": {},
   "source": [
    "**FMI**"
   ]
  },
  {
   "cell_type": "code",
   "execution_count": null,
   "metadata": {},
   "outputs": [],
   "source": [
    "metrics.fowlkes_mallows_score(labels_true, pre)"
   ]
  },
  {
   "cell_type": "markdown",
   "metadata": {},
   "source": [
    "**ARI**"
   ]
  },
  {
   "cell_type": "code",
   "execution_count": null,
   "metadata": {},
   "outputs": [],
   "source": [
    "metrics.adjusted_rand_score(labels_true, pre)"
   ]
  },
  {
   "cell_type": "markdown",
   "metadata": {},
   "source": [
    "**NMI**"
   ]
  },
  {
   "cell_type": "code",
   "execution_count": null,
   "metadata": {},
   "outputs": [],
   "source": [
    "metrics.normalized_mutual_info_score(labels_true, pre)"
   ]
  },
  {
   "cell_type": "markdown",
   "metadata": {},
   "source": [
    "# K-means"
   ]
  },
  {
   "cell_type": "code",
   "execution_count": null,
   "metadata": {},
   "outputs": [],
   "source": [
    "from sklearn.cluster import KMeans"
   ]
  },
  {
   "cell_type": "code",
   "execution_count": null,
   "metadata": {},
   "outputs": [],
   "source": [
    "bestari = -1\n",
    "ariepoch = -1\n",
    "\n",
    "bestnmi = -1\n",
    "nmiepoch = -1\n",
    "\n",
    "# bestvm = -1\n",
    "# vmepoch = -1\n",
    "\n",
    "bestfmi = -1\n",
    "fmiepoch = -1\n",
    "\n",
    "for i in range(0,100):\n",
    "    print(i)\n",
    "    kmeans = KMeans(n_clusters=4, random_state=i).fit(features)\n",
    "    pppre = kmeans.labels_\n",
    "    ari = metrics.adjusted_rand_score(label,pppre)\n",
    "    if ari > bestari:\n",
    "        bestari = ari\n",
    "        ariepoch = i\n",
    "    \n",
    "    fmi = metrics.fowlkes_mallows_score(label, pppre)\n",
    "    if fmi > bestfmi:\n",
    "        bestfmi = fmi\n",
    "        fmiepoch = i\n",
    "    \n",
    "    nmi = metrics.normalized_mutual_info_score(label,pppre)\n",
    "    if nmi >bestnmi:\n",
    "        bestnmi = nmi\n",
    "        nmiepoch = i\n",
    "        \n",
    "#     vm = metrics.v_measure_score(label,pppre)\n",
    "#     if vm >bestvm:\n",
    "#         bestvm = vm\n",
    "#         vmepoch = i\n",
    "\n",
    "print('the bestARI：',bestari,'random_state:',ariepoch)\n",
    "print('the bestNMI：',bestnmi,'random_state:',nmiepoch)\n",
    "# print('the bestVM：',bestvm,'random_state:',vmepoch)\n",
    "print('the bestFMI：',bestfmi,'random_state:',fmiepoch)"
   ]
  },
  {
   "cell_type": "markdown",
   "metadata": {},
   "source": [
    "# =============================================================="
   ]
  },
  {
   "cell_type": "markdown",
   "metadata": {},
   "source": [
    "# Dbscan in weighted adjmaxtrix"
   ]
  },
  {
   "cell_type": "code",
   "execution_count": null,
   "metadata": {},
   "outputs": [],
   "source": [
    "import tensorflow as tf\n",
    "import numpy as np"
   ]
  },
  {
   "cell_type": "code",
   "execution_count": null,
   "metadata": {},
   "outputs": [],
   "source": [
    "# with tf.Session() as sess:\n",
    "#     print('1')\n",
    "#     new_saver = tf.train.import_meta_graph(\"G:\\\\desktop\\\\准备的期刊论文\\\\20190928任务\\\\DBLP实验\\\\HIN+GCN\\\\premodel\\\\.meta\")\n",
    "#     print('2')\n",
    "#     new_saver.restore(sess, tf.train.latest_checkpoint('G:\\\\desktop\\\\准备的期刊论文\\\\20190928任务\\\\DBLP实验\\\\HIN+GCN\\\\premodel\\\\'))\n",
    "#     print('3')\n",
    "#     print(new_saver)\n",
    "    \n",
    "    \n",
    "#     variable_names = [v.name for v in tf.trainable_variables()]\n",
    "#     values = sess.run(variable_names)\n",
    "#     for k, v in zip(variable_names, values):\n",
    "#         print(\"Variable: \", k)\n",
    "#         print(\"Shape: \", v.shape)\n",
    "#         print(v)\n",
    "#         W = v\n",
    "#         break\n",
    "    \n",
    "#     print(sess.run('W:0')) \n",
    "    \n",
    "#     W = sess.run('weights_n')"
   ]
  },
  {
   "cell_type": "code",
   "execution_count": null,
   "metadata": {},
   "outputs": [],
   "source": [
    "W = [0.6489845,1.0374146,1.1753616]"
   ]
  },
  {
   "cell_type": "code",
   "execution_count": null,
   "metadata": {},
   "outputs": [],
   "source": [
    "W[0]"
   ]
  },
  {
   "cell_type": "code",
   "execution_count": null,
   "metadata": {},
   "outputs": [],
   "source": [
    "adjdata = np.load('small_adj_data.npy')"
   ]
  },
  {
   "cell_type": "code",
   "execution_count": null,
   "metadata": {},
   "outputs": [],
   "source": [
    "weightedadj = adjdata[0]*W[0] + adjdata[1]*W[1] +adjdata[2]*W[2]"
   ]
  },
  {
   "cell_type": "code",
   "execution_count": null,
   "metadata": {},
   "outputs": [],
   "source": [
    "weightedadj = preprocess_features_v1(weightedadj)"
   ]
  },
  {
   "cell_type": "code",
   "execution_count": null,
   "metadata": {},
   "outputs": [],
   "source": [
    "weightedadj"
   ]
  },
  {
   "cell_type": "code",
   "execution_count": null,
   "metadata": {},
   "outputs": [],
   "source": [
    "weightedadj.shape"
   ]
  },
  {
   "cell_type": "markdown",
   "metadata": {},
   "source": [
    "# Dbscan"
   ]
  },
  {
   "cell_type": "code",
   "execution_count": null,
   "metadata": {},
   "outputs": [],
   "source": [
    "clustering2 = DBSCAN(eps=0.01,min_samples=5).fit(weightedadj)\n",
    "clustering2"
   ]
  },
  {
   "cell_type": "code",
   "execution_count": null,
   "metadata": {},
   "outputs": [],
   "source": [
    "prelabel2 = clustering2.labels_"
   ]
  },
  {
   "cell_type": "code",
   "execution_count": null,
   "metadata": {},
   "outputs": [],
   "source": [
    "prelabel2.max()"
   ]
  },
  {
   "cell_type": "code",
   "execution_count": null,
   "metadata": {},
   "outputs": [],
   "source": [
    "ind2 = []\n",
    "pre2 = []\n",
    "for i in range(len(prelabel2)):\n",
    "    if prelabel2[i] != -1:\n",
    "        ind2.append(i)\n",
    "        pre2.append(prelabel2[i])"
   ]
  },
  {
   "cell_type": "code",
   "execution_count": null,
   "metadata": {},
   "outputs": [],
   "source": [
    "labels_true2 = label[ind2]"
   ]
  },
  {
   "cell_type": "code",
   "execution_count": null,
   "metadata": {},
   "outputs": [],
   "source": [
    "len(labels_true2)"
   ]
  },
  {
   "cell_type": "markdown",
   "metadata": {},
   "source": [
    "**FMI**"
   ]
  },
  {
   "cell_type": "code",
   "execution_count": null,
   "metadata": {},
   "outputs": [],
   "source": [
    "metrics.fowlkes_mallows_score(labels_true2, pre2)"
   ]
  },
  {
   "cell_type": "markdown",
   "metadata": {},
   "source": [
    "**ARI**"
   ]
  },
  {
   "cell_type": "code",
   "execution_count": null,
   "metadata": {},
   "outputs": [],
   "source": [
    "metrics.adjusted_rand_score(labels_true2, pre2)"
   ]
  },
  {
   "cell_type": "markdown",
   "metadata": {},
   "source": [
    "**NMI**"
   ]
  },
  {
   "cell_type": "code",
   "execution_count": null,
   "metadata": {},
   "outputs": [],
   "source": [
    "metrics.normalized_mutual_info_score(labels_true2, pre2)"
   ]
  },
  {
   "cell_type": "markdown",
   "metadata": {},
   "source": [
    "# Kmeans"
   ]
  },
  {
   "cell_type": "code",
   "execution_count": null,
   "metadata": {},
   "outputs": [],
   "source": [
    "from sklearn.cluster import KMeans"
   ]
  },
  {
   "cell_type": "code",
   "execution_count": null,
   "metadata": {},
   "outputs": [],
   "source": [
    "bestari = -1\n",
    "ariepoch = -1\n",
    "\n",
    "bestnmi = -1\n",
    "nmiepoch = -1\n",
    "\n",
    "# bestvm = -1\n",
    "# vmepoch = -1\n",
    "\n",
    "bestfmi = -1\n",
    "fmiepoch = -1\n",
    "\n",
    "for i in range(0,100):\n",
    "    print(i)\n",
    "    kmeans = KMeans(n_clusters=4, random_state=i).fit(weightedadj)\n",
    "    pppre = kmeans.labels_\n",
    "    ari = metrics.adjusted_rand_score(label,pppre)\n",
    "    if ari > bestari:\n",
    "        bestari = ari\n",
    "        ariepoch = i\n",
    "    \n",
    "    fmi = metrics.fowlkes_mallows_score(label, pppre)\n",
    "    if fmi > bestfmi:\n",
    "        bestfmi = fmi\n",
    "        fmiepoch = i\n",
    "    \n",
    "    \n",
    "    nmi = metrics.normalized_mutual_info_score(label,pppre)\n",
    "    if nmi >bestnmi:\n",
    "        bestnmi = nmi\n",
    "        nmiepoch = i\n",
    "        \n",
    "#     vm = metrics.v_measure_score(label,pppre)\n",
    "#     if vm >bestvm:\n",
    "#         bestvm = vm\n",
    "#         vmepoch = i\n",
    "\n",
    "print('the best ARI：',bestari,'random_state:',ariepoch)\n",
    "print('the best NMI：',bestnmi,'random_state:',nmiepoch)\n",
    "# print('the bestVM：',bestvm,'random_state:',vmepoch)\n",
    "print('the best FMI：',bestfmi,'random_state:',fmiepoch)"
   ]
  },
  {
   "cell_type": "code",
   "execution_count": null,
   "metadata": {},
   "outputs": [],
   "source": [
    "kmeans2 = KMeans(n_clusters=6, random_state=60).fit(weightedadj)"
   ]
  },
  {
   "cell_type": "code",
   "execution_count": null,
   "metadata": {},
   "outputs": [],
   "source": [
    "pppre2 = kmeans2.labels_"
   ]
  },
  {
   "cell_type": "code",
   "execution_count": null,
   "metadata": {},
   "outputs": [],
   "source": [
    "np.sum((pppre2 == label)+0)/len(pppre2)"
   ]
  },
  {
   "cell_type": "code",
   "execution_count": null,
   "metadata": {},
   "outputs": [],
   "source": [
    "metrics.completeness_score(label,pppre2)"
   ]
  },
  {
   "cell_type": "code",
   "execution_count": null,
   "metadata": {},
   "outputs": [],
   "source": [
    "# maxacc = 0.227619\n",
    "# epoch = 12\n",
    "# for i in range(17,100):\n",
    "#     print(i)\n",
    "#     kmeans2 = KMeans(n_clusters=6, random_state=i).fit(weightedadj)\n",
    "#     pppre2 = kmeans2.labels_\n",
    "#     acc = np.sum((pppre2 == label)+0)/len(pppre2)\n",
    "#     if acc > maxacc:\n",
    "#         maxacc = acc\n",
    "#         epoch = i\n",
    "#         print('the best acc:',maxacc,'random_state is：', epoch)"
   ]
  },
  {
   "cell_type": "code",
   "execution_count": null,
   "metadata": {},
   "outputs": [],
   "source": []
  },
  {
   "cell_type": "code",
   "execution_count": null,
   "metadata": {},
   "outputs": [],
   "source": []
  }
 ],
 "metadata": {
  "kernelspec": {
   "display_name": "Python 3",
   "language": "python",
   "name": "python3"
  },
  "language_info": {
   "codemirror_mode": {
    "name": "ipython",
    "version": 3
   },
   "file_extension": ".py",
   "mimetype": "text/x-python",
   "name": "python",
   "nbconvert_exporter": "python",
   "pygments_lexer": "ipython3",
   "version": "3.7.0"
  }
 },
 "nbformat": 4,
 "nbformat_minor": 2
}
